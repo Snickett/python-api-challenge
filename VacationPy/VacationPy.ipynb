{
 "cells": [
  {
   "cell_type": "markdown",
   "metadata": {},
   "source": [
    "# VacationPy\n",
    "----\n",
    "\n",
    "#### Note\n",
    "* Keep an eye on your API usage. Use https://developers.google.com/maps/reporting/gmp-reporting as reference for how to monitor your usage and billing.\n",
    "\n",
    "* Instructions have been included for each segment. You do not have to follow them exactly, but they are included to help you think through the steps."
   ]
  },
  {
   "cell_type": "code",
   "execution_count": 10,
   "metadata": {},
   "outputs": [],
   "source": [
    "# Dependencies and Setup\n",
    "import matplotlib.pyplot as plt\n",
    "import pandas as pd\n",
    "import numpy as np\n",
    "import requests\n",
    "import gmaps\n",
    "import os\n",
    "from pprint import pprint\n",
    "\n",
    "# Import API key\n",
    "from api_keys import g_key"
   ]
  },
  {
   "cell_type": "markdown",
   "metadata": {},
   "source": [
    "### Store Part I results into DataFrame\n",
    "* Load the csv exported in Part I to a DataFrame"
   ]
  },
  {
   "cell_type": "code",
   "execution_count": 11,
   "metadata": {},
   "outputs": [
    {
     "data": {
      "text/html": [
       "<div>\n",
       "<style scoped>\n",
       "    .dataframe tbody tr th:only-of-type {\n",
       "        vertical-align: middle;\n",
       "    }\n",
       "\n",
       "    .dataframe tbody tr th {\n",
       "        vertical-align: top;\n",
       "    }\n",
       "\n",
       "    .dataframe thead th {\n",
       "        text-align: right;\n",
       "    }\n",
       "</style>\n",
       "<table border=\"1\" class=\"dataframe\">\n",
       "  <thead>\n",
       "    <tr style=\"text-align: right;\">\n",
       "      <th></th>\n",
       "      <th>City</th>\n",
       "      <th>Lat</th>\n",
       "      <th>Lng</th>\n",
       "      <th>Max Temp</th>\n",
       "      <th>Humidity</th>\n",
       "      <th>Cloudiness</th>\n",
       "      <th>Wind Speed</th>\n",
       "      <th>Country</th>\n",
       "      <th>Date</th>\n",
       "    </tr>\n",
       "  </thead>\n",
       "  <tbody>\n",
       "    <tr>\n",
       "      <th>0</th>\n",
       "      <td>Ribeira Grande</td>\n",
       "      <td>38.52</td>\n",
       "      <td>-28.70</td>\n",
       "      <td>62.600</td>\n",
       "      <td>67</td>\n",
       "      <td>20</td>\n",
       "      <td>2.10</td>\n",
       "      <td>PT</td>\n",
       "      <td>1600323578</td>\n",
       "    </tr>\n",
       "    <tr>\n",
       "      <th>1</th>\n",
       "      <td>Bluff</td>\n",
       "      <td>-46.60</td>\n",
       "      <td>168.33</td>\n",
       "      <td>46.004</td>\n",
       "      <td>70</td>\n",
       "      <td>88</td>\n",
       "      <td>6.26</td>\n",
       "      <td>NZ</td>\n",
       "      <td>1600323328</td>\n",
       "    </tr>\n",
       "    <tr>\n",
       "      <th>2</th>\n",
       "      <td>Mataura</td>\n",
       "      <td>-46.19</td>\n",
       "      <td>168.86</td>\n",
       "      <td>46.004</td>\n",
       "      <td>70</td>\n",
       "      <td>100</td>\n",
       "      <td>6.26</td>\n",
       "      <td>NZ</td>\n",
       "      <td>1600323578</td>\n",
       "    </tr>\n",
       "    <tr>\n",
       "      <th>3</th>\n",
       "      <td>Nikolskoye</td>\n",
       "      <td>59.70</td>\n",
       "      <td>30.79</td>\n",
       "      <td>51.800</td>\n",
       "      <td>76</td>\n",
       "      <td>75</td>\n",
       "      <td>3.00</td>\n",
       "      <td>RU</td>\n",
       "      <td>1600323579</td>\n",
       "    </tr>\n",
       "    <tr>\n",
       "      <th>4</th>\n",
       "      <td>Pevek</td>\n",
       "      <td>69.70</td>\n",
       "      <td>170.31</td>\n",
       "      <td>35.348</td>\n",
       "      <td>96</td>\n",
       "      <td>100</td>\n",
       "      <td>6.25</td>\n",
       "      <td>RU</td>\n",
       "      <td>1600323579</td>\n",
       "    </tr>\n",
       "  </tbody>\n",
       "</table>\n",
       "</div>"
      ],
      "text/plain": [
       "             City    Lat     Lng  Max Temp  Humidity  Cloudiness  Wind Speed  \\\n",
       "0  Ribeira Grande  38.52  -28.70    62.600        67          20        2.10   \n",
       "1           Bluff -46.60  168.33    46.004        70          88        6.26   \n",
       "2         Mataura -46.19  168.86    46.004        70         100        6.26   \n",
       "3      Nikolskoye  59.70   30.79    51.800        76          75        3.00   \n",
       "4           Pevek  69.70  170.31    35.348        96         100        6.25   \n",
       "\n",
       "  Country        Date  \n",
       "0      PT  1600323578  \n",
       "1      NZ  1600323328  \n",
       "2      NZ  1600323578  \n",
       "3      RU  1600323579  \n",
       "4      RU  1600323579  "
      ]
     },
     "execution_count": 11,
     "metadata": {},
     "output_type": "execute_result"
    }
   ],
   "source": [
    "data_file = os.path.join(\"..\",\"WeatherPy\",\"exports\",\"CityList.csv\")\n",
    "work_df = pd.read_csv(data_file)\n",
    "work_df = work_df.drop(['Unnamed: 0'], axis=1)\n",
    "work_df.head()"
   ]
  },
  {
   "cell_type": "markdown",
   "metadata": {},
   "source": [
    "### Humidity Heatmap\n",
    "* Configure gmaps.\n",
    "* Use the Lat and Lng as locations and Humidity as the weight.\n",
    "* Add Heatmap layer to map."
   ]
  },
  {
   "cell_type": "code",
   "execution_count": 12,
   "metadata": {},
   "outputs": [],
   "source": [
    "import gmaps.datasets\n",
    "gmaps.configure(g_key)"
   ]
  },
  {
   "cell_type": "code",
   "execution_count": 13,
   "metadata": {},
   "outputs": [
    {
     "data": {
      "application/vnd.jupyter.widget-view+json": {
       "model_id": "b415eaa144f64703b4ac4c3b3bc4510b",
       "version_major": 2,
       "version_minor": 0
      },
      "text/plain": [
       "Figure(layout=FigureLayout(height='420px'))"
      ]
     },
     "metadata": {},
     "output_type": "display_data"
    }
   ],
   "source": [
    "locations = work_df[['Lat', 'Lng']]\n",
    "weights = work_df['Humidity']\n",
    "fig = gmaps.figure()\n",
    "fig.add_layer(gmaps.heatmap_layer(locations, weights=weights))\n",
    "fig"
   ]
  },
  {
   "cell_type": "markdown",
   "metadata": {},
   "source": [
    "### Create new DataFrame fitting weather criteria\n",
    "* Narrow down the cities to fit weather conditions.\n",
    "* Drop any rows will null values."
   ]
  },
  {
   "cell_type": "code",
   "execution_count": 17,
   "metadata": {},
   "outputs": [
    {
     "data": {
      "text/plain": [
       "(21, 9)"
      ]
     },
     "execution_count": 17,
     "metadata": {},
     "output_type": "execute_result"
    }
   ],
   "source": [
    "#Narrow down the DataFrame to find your ideal weather condition. For example:\n",
    "#A max temperature lower than 80 degrees but higher than 70.\n",
    "#Wind speed less than 10 mph.\n",
    "#Zero cloudiness.\n",
    "work_df_filtered = work_df[work_df[\"Max Temp\"] < 80] #degrees are in Kelvin, need to go back and fix. 300 Kelvin is close to 80 degrees F\n",
    "work_df_filtered = work_df_filtered[work_df_filtered[\"Max Temp\"] > 70] #degrees are in Kelvin, need to go back and fix. 294 Kelvin is close to 70 degrees F\n",
    "work_df_filtered = work_df_filtered[work_df_filtered[\"Wind Speed\"]<= 15]\n",
    "work_df_filtered = work_df_filtered[work_df_filtered[\"Humidity\"]<= 60]\n",
    "work_df_filtered.shape\n",
    "\n"
   ]
  },
  {
   "cell_type": "markdown",
   "metadata": {},
   "source": [
    "### Hotel Map\n",
    "* Store into variable named `hotel_df`.\n",
    "* Add a \"Hotel Name\" column to the DataFrame.\n",
    "* Set parameters to search for hotels with 5000 meters.\n",
    "* Hit the Google Places API for each city's coordinates.\n",
    "* Store the first Hotel result into the DataFrame.\n",
    "* Plot markers on top of the heatmap."
   ]
  },
  {
   "cell_type": "code",
   "execution_count": 18,
   "metadata": {},
   "outputs": [],
   "source": [
    "locations_lat = work_df_filtered['Lat'].to_list()\n",
    "locations_lng = work_df_filtered['Lng'].to_list()"
   ]
  },
  {
   "cell_type": "code",
   "execution_count": 19,
   "metadata": {},
   "outputs": [],
   "source": [
    "result_lat = []\n",
    "result_lng = []\n",
    "result_name = []\n",
    "\n",
    "for i in range(0,len(locations_lat)):\n",
    "#for i in range(0,1):\n",
    "    # geocoordinates for the base of our search\n",
    "    target_location = str(f\"{locations_lat[i]},{locations_lng[i]}\") # coordinates\n",
    "#target_location = \"-28.78,32.04\"\n",
    "# distance, IN METERS, within which the place results must live\n",
    "    target_radius = 5000\n",
    "\n",
    "# type of establishment that we'd like to use to filter our place results\n",
    "    target_type = \"hotel\"\n",
    "\n",
    "# base url\n",
    "    base_url = \"https://maps.googleapis.com/maps/api/place/nearbysearch/json\"\n",
    "\n",
    "# set up a dictionary to store all query parameters\n",
    "    params = {\n",
    "        \"location\": target_location,\n",
    "#    \"keyword\": target_keyword,\n",
    "        \"radius\": target_radius,\n",
    "#     \"rankby\": \"distance\",\n",
    "        \"type\": target_type,\n",
    "        \"key\": g_key\n",
    "}\n",
    "\n",
    "# run a request using our params dictionary\n",
    "    response = requests.get(base_url, params=params)\n",
    "    response_json = response.json()\n",
    "    result_lat.append(response_json['results'][0]['geometry'][\"location\"][\"lat\"])\n",
    "    result_lng.append(response_json['results'][0]['geometry'][\"location\"][\"lng\"])\n",
    "    result_name.append(response_json['results'][0]['name'])"
   ]
  },
  {
   "cell_type": "code",
   "execution_count": 20,
   "metadata": {},
   "outputs": [],
   "source": [
    "result_coord = zip(result_lat,result_lng)\n",
    "result_coord = list(result_coord)\n",
    "#result_coord"
   ]
  },
  {
   "cell_type": "code",
   "execution_count": 21,
   "metadata": {},
   "outputs": [
    {
     "data": {
      "application/vnd.jupyter.widget-view+json": {
       "model_id": "b415eaa144f64703b4ac4c3b3bc4510b",
       "version_major": 2,
       "version_minor": 0
      },
      "text/plain": [
       "Figure(layout=FigureLayout(height='420px'))"
      ]
     },
     "metadata": {},
     "output_type": "display_data"
    }
   ],
   "source": [
    "marker_locations = result_coord\n",
    "\n",
    "#fig = gmaps.figure()\n",
    "markers = gmaps.marker_layer(marker_locations)\n",
    "fig.add_layer(markers)\n",
    "fig"
   ]
  },
  {
   "cell_type": "code",
   "execution_count": 102,
   "metadata": {},
   "outputs": [],
   "source": [
    "#I can't get any of this to work\n",
    "\n",
    "#keys = ['hotel name', 'location']\n",
    "#values = [str(result_name),str(result_coord)]\n",
    "#tag_dict = dict(zip(keys, values))\n",
    "\n",
    "\n",
    "#hotel_locations = [row['location'] for row in tag_dict]\n",
    "# NOTE: Do not change any of the code in this cell\n",
    "\n",
    "# Using the template add the hotel marks to the heatmap\n",
    "\n",
    "#cannot see City or Country as an output in the API\n",
    "#info_box_template = \"\"\"\n",
    "#<dl>\n",
    "#<dt>Name</dt><dd>{Hotel Name}</dd>\n",
    "#<dt>City</dt><dd></dd></dd>\n",
    "#<dt>Country</dt><dd></dd></dd>\n",
    "#</dl>\n",
    "#\"\"\"\n",
    "# Store the DataFrame Row\n",
    "# NOTE: be sure to update with your DataFrame name\n",
    "    #plant_info = [info_box_template.format(**plant) for plant in nuclear_power_plants]\n",
    "#hotel_info = [info_box_template.format(**row) for row in hotel_locations]\n",
    "#locations = work_df_filtered[[\"Lat\", \"Lng\"]]\n",
    "#fig = gmaps.figure()\n",
    "#fig.add_layer(marker_layer)\n",
    "#fig"
   ]
  },
  {
   "cell_type": "code",
   "execution_count": null,
   "metadata": {},
   "outputs": [],
   "source": [
    "# Add marker layer ontop of heat map\n",
    "\n",
    "\n",
    "# Display figure\n"
   ]
  },
  {
   "cell_type": "code",
   "execution_count": null,
   "metadata": {},
   "outputs": [],
   "source": []
  }
 ],
 "metadata": {
  "kernelspec": {
   "display_name": "Python 3",
   "language": "python",
   "name": "python3"
  },
  "language_info": {
   "codemirror_mode": {
    "name": "ipython",
    "version": 3
   },
   "file_extension": ".py",
   "mimetype": "text/x-python",
   "name": "python",
   "nbconvert_exporter": "python",
   "pygments_lexer": "ipython3",
   "version": "3.8.3"
  },
  "latex_envs": {
   "LaTeX_envs_menu_present": true,
   "autoclose": false,
   "autocomplete": true,
   "bibliofile": "biblio.bib",
   "cite_by": "apalike",
   "current_citInitial": 1,
   "eqLabelWithNumbers": true,
   "eqNumInitial": 1,
   "hotkeys": {
    "equation": "Ctrl-E",
    "itemize": "Ctrl-I"
   },
   "labels_anchors": false,
   "latex_user_defs": false,
   "report_style_numbering": false,
   "user_envs_cfg": false
  }
 },
 "nbformat": 4,
 "nbformat_minor": 4
}
